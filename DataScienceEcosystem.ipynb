{
 "cells": [
  {
   "cell_type": "markdown",
   "id": "3270c59b-617d-4250-b3f0-a08c22fc7de2",
   "metadata": {
    "tags": []
   },
   "source": [
    "<h1>Data Science Tools and Ecosystem</h1>"
   ]
  },
  {
   "cell_type": "markdown",
   "id": "0750ead1-3c71-4960-9815-bb5fc86292a1",
   "metadata": {},
   "source": [
    "In this notebook, Data Science Tools and Ecosystem are summarized."
   ]
  },
  {
   "cell_type": "markdown",
   "id": "58976c0f-8206-4038-8c14-5bc42d59e124",
   "metadata": {},
   "source": [
    "**Objectives:**\n",
    "<h3>popular tools for data science</h3>\n",
    "<ul><li>Data management tools<ul><li>Mysql</li><li>postgreSQL</li><li>MongoDB</li></ul></li><li>Data integration and transfromation tools are<ul><li>apache airfolw</li><li>kubeflow</li><li>NodeRED</li></ul></li><li>data visualization tools are<ul><li>pixie dust</li><li>hue</li><li>kibana</li></ul></li> </ul>"
   ]
  },
  {
   "cell_type": "markdown",
   "id": "3d943409-e4b4-48fc-8b15-6f8871962b3c",
   "metadata": {},
   "source": [
    "Some of the popular languages that Data Scientists use are:\n",
    "<ol>\n",
    "    <li>\n",
    "        python\n",
    "    </li>\n",
    "    <li>\n",
    "        R\n",
    "    </li>\n",
    "    <li>\n",
    "        Pytorch\n",
    "    </li>\n",
    "</ol>"
   ]
  },
  {
   "cell_type": "markdown",
   "id": "8a41f688-d5d2-422f-98cd-b4f6561647a9",
   "metadata": {},
   "source": [
    "Some of the commonly used libraries used by Data Scientists include:\n",
    "<ol><li>Pandas</li><li>Numpy</li><li>Matplotlib</li></ol>"
   ]
  },
  {
   "cell_type": "markdown",
   "id": "58f50527-adb6-48fc-b265-59de2332d3f6",
   "metadata": {
    "tags": []
   },
   "source": [
    "\n",
    "| Category       |data science Tools                           |\n",
    "|----------------|---------------------------------|\n",
    "| IDEs           | Jupyter Notebook, RStudio       |\n",
    "| Data Wrangling | OpenRefine, Trifacta Wrangler   |\n",
    "| Visualization  | Tableau, Power BI, Plotly       |\n",
    "| Big Data       | Apache Hadoop, Apache Spark     |\n",
    "| Cloud          | Amazon Web Services, Google Cloud Platform |\n"
   ]
  },
  {
   "cell_type": "markdown",
   "id": "3fe87161-1955-414d-b929-29eacb8eef62",
   "metadata": {},
   "source": [
    "<h3>Below are a few examples of evaluating arithmetic expressions in Python</h3>"
   ]
  },
  {
   "cell_type": "code",
   "execution_count": 8,
   "id": "8ec6b5cf-6e73-4276-b579-a42ac519aa49",
   "metadata": {
    "tags": []
   },
   "outputs": [
    {
     "data": {
      "text/plain": [
       "17"
      ]
     },
     "execution_count": 8,
     "metadata": {},
     "output_type": "execute_result"
    }
   ],
   "source": [
    "(3*4)+5 #This a simple arithmetic expression to mutiply then add integers"
   ]
  },
  {
   "cell_type": "code",
   "execution_count": 9,
   "id": "5b46af36-5e2a-4066-8c1f-9543c81db338",
   "metadata": {
    "tags": []
   },
   "outputs": [
    {
     "name": "stdout",
     "output_type": "stream",
     "text": [
      "3.3333333333333335\n"
     ]
    }
   ],
   "source": [
    "#This will convert 200 minutes to hours by diving by 60\n",
    "min=200\n",
    "hours=min/60 \n",
    "print(hours)"
   ]
  },
  {
   "cell_type": "markdown",
   "id": "82ca8f05-ff7b-4a59-9eb6-dca50aa3f984",
   "metadata": {},
   "source": [
    "<h2>author</h2>\n",
    "surya"
   ]
  },
  {
   "cell_type": "code",
   "execution_count": null,
   "id": "d2a3017f-f29b-4144-80d0-83201bdb02e8",
   "metadata": {},
   "outputs": [],
   "source": []
  }
 ],
 "metadata": {
  "kernelspec": {
   "display_name": "Python",
   "language": "python",
   "name": "conda-env-python-py"
  },
  "language_info": {
   "codemirror_mode": {
    "name": "ipython",
    "version": 3
   },
   "file_extension": ".py",
   "mimetype": "text/x-python",
   "name": "python",
   "nbconvert_exporter": "python",
   "pygments_lexer": "ipython3",
   "version": "3.7.12"
  }
 },
 "nbformat": 4,
 "nbformat_minor": 5
}
